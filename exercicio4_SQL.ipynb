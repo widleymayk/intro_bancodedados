{
  "nbformat": 4,
  "nbformat_minor": 0,
  "metadata": {
    "colab": {
      "provenance": []
    },
    "kernelspec": {
      "name": "python3",
      "display_name": "Python 3"
    },
    "language_info": {
      "name": "python"
    }
  },
  "cells": [
    {
      "cell_type": "markdown",
      "source": [
        "Primeiro exemplo de como integrar POO com banco de dados : SQLite\n",
        "\n",
        "- Sistema generico de gerenciamento de tabelas"
      ],
      "metadata": {
        "id": "J8DBDtlKkcPx"
      }
    },
    {
      "cell_type": "code",
      "execution_count": null,
      "metadata": {
        "id": "WDj2Dkn5j1ab"
      },
      "outputs": [],
      "source": [
        "import sqlite3\n",
        "\n",
        "class BancoDeDadosSQLite:\n",
        "  def __init__(self, nome_banco):\n",
        "    self.conexao = sqlite2.connect(nome_banco)\n",
        "    self.cursor = self.conexao.cursor()\n",
        "    self.criar_tabela()\n",
        "\n",
        "  def criar_tabela(self):\n",
        "    self.cursor.execute('''\n",
        "        CREATE TABLE IF NOT EXISTS tarefas  (\n",
        "            id INTEGER PRIMARY KEY,\n",
        "            descrição TEXT,\n",
        "            concluida BOOLEAN\n",
        "        )\n",
        "    ''')\n",
        "\n",
        "    self.conexao.close()\n",
        "\n",
        "  def adicionar_tarefa(self, descricao):\n",
        "    self.cursor.execute('INSERT INTO tarefas (descrição, concluida) VALUES (?,?)', (descrição, False))\n",
        "    self.conexao.commit()\n",
        "\n",
        "\n",
        "  def obter_tarefas(self):\n",
        "    self.cursor.execute('SELECT * FROM tarefas')\n",
        "    return self.cursor.fetchall()\n",
        "\n",
        "  def marcar_tarefa_como_concluida(self, id_tarefa):\n",
        "    self.cursor.execute('UPDATE tarefas SET concluida = ? WHERE id = ?', (True, id_tarefa))\n",
        "\n",
        "  class ListadeTarefas:\n",
        "    def __init__(self, db):\n",
        "      self.db = db\n",
        "\n",
        "    def adicionar_tarefa(self, descricao):\n",
        "      self.db.adicionar_tarefa(descricao)\n",
        "\n",
        "    def listar_tarefas(self):\n",
        "      tarefas = self.db.obter_tarefas()\n",
        "      for tarefa in tarefas:\n",
        "        print(f' {tarefa[0]}. {tarefa[1]} - {Concluida if tarefa[2] else \"Pendente\"}')"
      ]
    }
  ]
}